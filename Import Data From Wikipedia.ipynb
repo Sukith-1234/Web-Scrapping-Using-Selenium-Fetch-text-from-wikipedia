{
 "cells": [
  {
   "cell_type": "code",
   "execution_count": 3,
   "id": "3bb213fa",
   "metadata": {},
   "outputs": [],
   "source": [
    "#import required libraries\n",
    "\n",
    "from selenium import webdriver\n",
    "from selenium.webdriver.chrome.service import Service"
   ]
  },
  {
   "cell_type": "code",
   "execution_count": 4,
   "id": "f1e28799",
   "metadata": {},
   "outputs": [],
   "source": [
    "# downlaoded relevant chrom driver exe file and proivde the location\n",
    "\n",
    "service=Service(\"C:\\\\Users\\\\chromedriver.exe\")"
   ]
  },
  {
   "cell_type": "code",
   "execution_count": 19,
   "id": "fbae6f0a",
   "metadata": {},
   "outputs": [
    {
     "name": "stdout",
     "output_type": "stream",
     "text": [
      "From today's featured article\n",
      "Mini scule is a species of microhylid frog endemic to Madagascar that was described in 2019. The scientific name of the species refers to its size, being a pun on the word minuscule. It is very small, measuring only 8.4 to 10.8 mm (0.33 to 0.43 in) in snout–vent length. It has bronze underparts with a brown groin and back of the thigh, cream upperparts with brown flecking, a dark brown side of the head, and a red iris. On the hind feet, the first toe is absent and the second and fifth toes are strongly reduced. The frog is known only from the Sainte Luce Reserve, where it inhabits areas with deep leaf litter near semi-permanent water bodies. Specimens of frogs from Mandena, the Vohimena mountains, the southern Anosy Mountains, and Tsitongambarika may also be of this species. Along with Mini mum and Mini ature, the other two species in its genus, it received media attention when first described due to the wordplay in its scientific name. (Full article...)\n",
      "Recently featured: Mischief Makers Second Battle of Cape Finisterre Oryzomys antillarum\n",
      "Archive By email More featured articles About\n",
      "Did you know ...\n",
      "Ocoee salamander\n",
      "... that the Ocoee salamander (example pictured) from Tennessee is named after the Cherokee word for Passiflora incarnata (passionflower)?\n",
      "... that the North Carolina state auditor is fifth in the line of succession to the governorship of North Carolina?\n",
      "... that Martini Maccomo accidentally shot someone in the eye while performing?\n",
      "... that on the song \"Conceited\", Flo Milli raps that she's been important since she was a fetus?\n",
      "... that the heads of the world's largest producer of pure lithium grew up in poverty?\n",
      "... that William F. Hanson collaborated with Zitkala-Sa on a Sioux-inspired work called The Sun Dance Opera?\n",
      "... that the platform below the Weesperplein metro station was used as a fallout shelter after the line that was supposed to run through it got cancelled?\n",
      "... that Beatrice Muller lived on Queen Elizabeth 2 for nine years?\n",
      "Archive Start a new article Nominate an article\n",
      "In the news\n",
      "Rishi Sunak\n",
      "Rishi Sunak (pictured) succeeds Liz Truss as Leader of the Conservative Party and Prime Minister of the United Kingdom.\n",
      "Xi Jinping is named General Secretary of the Chinese Communist Party for a third term after the conclusion of the Party Congress.\n",
      "Ulf Kristersson is elected Prime Minister of Sweden following a four-party agreement.\n",
      "Hurricane Julia leaves more than 90 people dead across South and Central America.\n",
      "Ongoing: Mahsa Amini protests Russian invasion of Ukraine\n",
      "Recent deaths: Gordon Fee John Jay Osborn Jr. Ash Carter Blanche Lemco van Ginkel Galina Pisarenko Rodney Graham\n",
      "Nominate an article\n",
      "On this day\n",
      "October 27\n",
      "Vazgen Sargsyan\n",
      "1942 – World War II: The Imperial Japanese Navy achieved a pyrrhic victory against the United States at the Battle of the Santa Cruz Islands.\n",
      "1992 – U.S. Navy Petty Officer Allen R. Schindler Jr. was killed in Sasebo, Japan, for being gay, which led to the U.S. Armed Forces' \"don't ask, don't tell\" policy.\n",
      "1999 – Armed men led by Nairi Hunanyan carried out a mass shooting at the Armenian parliament, killing Prime Minister Vazgen Sargsyan (pictured), National Assembly speaker Karen Demirchyan, and six others.\n",
      "2011 – Michael D. Higgins was elected President of Ireland with far more votes than any politician in the country's history.\n",
      "Gabriel Báthory (d. 1613)Rex Shelley (b. 1930)Zoya Phan (b. 1980)\n",
      "More anniversaries: October 26 October 27 October 28\n",
      "Archive By email List of days of the year\n"
     ]
    }
   ],
   "source": [
    "# set options browsing easier\n",
    "def get_driver():\n",
    "    options=webdriver.ChromeOptions()\n",
    "    options.add_argument(\"disable-infobars\")\n",
    "    options.add_argument(\"start-maximized\")\n",
    "    options.add_argument(\"disable-dev-shm-usage\")\n",
    "    options.add_argument(\"no-sandbox\")\n",
    "    options.add_experimental_option(\"excludeSwitches\",[\"enable-automation\"])\n",
    "    options.add_argument(\"--disable-blink-features=AutomationControlled\")\n",
    "\n",
    "    driver=webdriver.Chrome(service=service,options=options)\n",
    "    driver.get(\"https://en.wikipedia.org/wiki/Main_Page\")\n",
    "    return driver\n",
    "\n",
    "# copy relevant xpath value you need fetch first right clik on web page-->inspect --> select relevant element -->copy Xpath\n",
    "def main():\n",
    "    driver=get_driver()\n",
    "    element=driver.find_element(by=\"xpath\",value=\"/html/body/div[3]/div[3]/div[5]/div[1]/div[2]\")\n",
    "    \n",
    "    return element.text\n",
    "\n",
    "print(main())"
   ]
  }
 ],
 "metadata": {
  "kernelspec": {
   "display_name": "Python 3 (ipykernel)",
   "language": "python",
   "name": "python3"
  },
  "language_info": {
   "codemirror_mode": {
    "name": "ipython",
    "version": 3
   },
   "file_extension": ".py",
   "mimetype": "text/x-python",
   "name": "python",
   "nbconvert_exporter": "python",
   "pygments_lexer": "ipython3",
   "version": "3.10.5"
  }
 },
 "nbformat": 4,
 "nbformat_minor": 5
}
